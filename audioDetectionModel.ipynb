{
 "cells": [
  {
   "cell_type": "code",
   "execution_count": 2,
   "metadata": {},
   "outputs": [],
   "source": [
    "import numpy as np\n",
    "from tensorflow.keras.models import load_model\n",
    "import librosa\n",
    "from tensorflow.keras.preprocessing.sequence import pad_sequences\n",
    "\n",
    "def load_and_preprocess_data(audio_path, label=None, n_mfcc=13, max_n_fft=2048):\n",
    "    try:\n",
    "        audio_signal, sample_rate = librosa.load(audio_path, sr=None)\n",
    "        n_fft = min(max_n_fft, len(audio_signal))\n",
    "        mfccs = librosa.feature.mfcc(y=audio_signal, sr=sample_rate, n_mfcc=n_mfcc, n_fft=n_fft)\n",
    "        return mfccs.T, label\n",
    "    except Exception as e:\n",
    "        print(f\"Error processing {audio_path}: {e}\")\n",
    "        return None, None"
   ]
  },
  {
   "cell_type": "code",
   "execution_count": 3,
   "metadata": {},
   "outputs": [],
   "source": [
    "def preprocess_unseen_audio(audio_path, n_mfcc=13, max_n_fft=2048):\n",
    "    features, label = load_and_preprocess_data(audio_path, label=None, n_mfcc=n_mfcc, max_n_fft=max_n_fft)\n",
    "    if features is not None:\n",
    "        return features\n",
    "    else:\n",
    "        print(f\"Error processing {audio_path}\")\n",
    "        return None\n",
    "    \n",
    "model = load_model(r\"real_batch_lstm_model_akn.h5\")\n",
    "\n",
    "\n",
    "def predict_audio(audio_path):\n",
    "    processed_audio = preprocess_unseen_audio(audio_path)\n",
    "\n",
    "    if processed_audio is not None:\n",
    "        processed_audio = np.expand_dims(processed_audio, axis=0)\n",
    "        processed_audio = pad_sequences(processed_audio, padding='post', dtype='float32')\n",
    "        predictions = model.predict(processed_audio)\n",
    "        predicted_class = np.argmax(predictions, axis=1)[0]\n",
    "\n",
    "        if predicted_class == 0:\n",
    "            print(\"The audio is predicted to be real.\")\n",
    "        else:\n",
    "            print(\"The audio is predicted to be fake.\")\n",
    "\n",
    "        print(\"Prediction probabilities:\", predictions)\n",
    "    else:\n",
    "        print(\"Error: Failed to preprocess audio.\")"
   ]
  },
  {
   "cell_type": "code",
   "execution_count": 4,
   "metadata": {},
   "outputs": [
    {
     "name": "stdout",
     "output_type": "stream",
     "text": [
      "1/1 [==============================] - 1s 825ms/step\n",
      "The audio is predicted to be real.\n",
      "Prediction probabilities: [[0.8107759  0.18922417]]\n"
     ]
    }
   ],
   "source": [
    "audio_file_path = r\"C:\\Users\\akn\\Desktop\\Audio\\fake\\PA_E_2541211.flac\"\n",
    "\n",
    "predict_audio(audio_file_path)"
   ]
  }
 ],
 "metadata": {
  "kernelspec": {
   "display_name": "Python 3",
   "language": "python",
   "name": "python3"
  },
  "language_info": {
   "codemirror_mode": {
    "name": "ipython",
    "version": 3
   },
   "file_extension": ".py",
   "mimetype": "text/x-python",
   "name": "python",
   "nbconvert_exporter": "python",
   "pygments_lexer": "ipython3",
   "version": "3.9.5"
  }
 },
 "nbformat": 4,
 "nbformat_minor": 2
}
